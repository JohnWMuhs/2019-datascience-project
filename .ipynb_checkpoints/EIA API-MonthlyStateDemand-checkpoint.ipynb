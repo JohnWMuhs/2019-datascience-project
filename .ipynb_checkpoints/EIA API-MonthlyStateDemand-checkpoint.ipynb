{
 "cells": [
  {
   "cell_type": "code",
   "execution_count": 112,
   "metadata": {},
   "outputs": [],
   "source": [
    "import pandas as pd"
   ]
  },
  {
   "cell_type": "code",
   "execution_count": 133,
   "metadata": {},
   "outputs": [],
   "source": [
    "import requests \n",
    "# Make a get request to get the latest position of the international space station from the opennotify api.\n",
    "EIA_api_key = '53e6a63887dc05efe150165fa890f8da'\n",
    "response = requests.get(\"http://api.eia.gov/category/?api_key=\"+EIA_api_key+\"&category_id=371\")\n",
    "\n",
    "response\n",
    "\n",
    "dummy=0"
   ]
  },
  {
   "cell_type": "code",
   "execution_count": 134,
   "metadata": {},
   "outputs": [],
   "source": [
    "url1 = 'http://api.eia.gov/series/?api_key='+EIA_api_key+'&series_id=ELEC.GEN.ALL-UT-99.M'\n",
    "url2 = 'http://api.eia.gov/series/?api_key='+EIA_api_key+'&series_id=ELEC.GEN.ALL-CO-99.M'\n",
    "ePricesUT = requests.get(url1)\n",
    "ePricesCO = requests.get(url2)\n",
    "\n",
    "ePricesUT = ePricesUT.content.decode(\"utf-8\")\n",
    "ePricesCO = ePricesCO.content.decode(\"utf-8\")\n",
    "\n",
    "\n",
    "import json\n",
    "UTdict = json.loads(ePricesUT)\n",
    "COdict = json.loads(ePricesCO)\n",
    "#UTdict['series']\n",
    "\n",
    "\n",
    "dfUT = pd.DataFrame.from_dict(UTdict['series'])\n",
    "dfCO = pd.DataFrame.from_dict(COdict['series'])\n",
    "\n",
    "dfUT = dfUT['data'][0]\n",
    "dfCO = dfCO['data'][0]\n"
   ]
  },
  {
   "cell_type": "code",
   "execution_count": 135,
   "metadata": {},
   "outputs": [],
   "source": [
    "dfUT = pd.DataFrame(dfUT)\n",
    "dfCO = pd.DataFrame(dfCO)"
   ]
  },
  {
   "cell_type": "code",
   "execution_count": 138,
   "metadata": {},
   "outputs": [
    {
     "data": {
      "text/html": [
       "<div>\n",
       "<style scoped>\n",
       "    .dataframe tbody tr th:only-of-type {\n",
       "        vertical-align: middle;\n",
       "    }\n",
       "\n",
       "    .dataframe tbody tr th {\n",
       "        vertical-align: top;\n",
       "    }\n",
       "\n",
       "    .dataframe thead th {\n",
       "        text-align: right;\n",
       "    }\n",
       "</style>\n",
       "<table border=\"1\" class=\"dataframe\">\n",
       "  <thead>\n",
       "    <tr style=\"text-align: right;\">\n",
       "      <th></th>\n",
       "      <th>UT_Net_Gen</th>\n",
       "      <th>CO_Net_Gen</th>\n",
       "    </tr>\n",
       "    <tr>\n",
       "      <th>DateTime</th>\n",
       "      <th></th>\n",
       "      <th></th>\n",
       "    </tr>\n",
       "  </thead>\n",
       "  <tbody>\n",
       "    <tr>\n",
       "      <th>2018-12-01</th>\n",
       "      <td>4075.05341</td>\n",
       "      <td>5126.74053</td>\n",
       "    </tr>\n",
       "    <tr>\n",
       "      <th>2018-11-01</th>\n",
       "      <td>3667.82540</td>\n",
       "      <td>4534.25915</td>\n",
       "    </tr>\n",
       "    <tr>\n",
       "      <th>2018-10-01</th>\n",
       "      <td>3397.63940</td>\n",
       "      <td>4290.06948</td>\n",
       "    </tr>\n",
       "    <tr>\n",
       "      <th>2018-09-01</th>\n",
       "      <td>3444.35417</td>\n",
       "      <td>4571.52680</td>\n",
       "    </tr>\n",
       "    <tr>\n",
       "      <th>2018-08-01</th>\n",
       "      <td>4317.71877</td>\n",
       "      <td>5265.79230</td>\n",
       "    </tr>\n",
       "  </tbody>\n",
       "</table>\n",
       "</div>"
      ],
      "text/plain": [
       "            UT_Net_Gen  CO_Net_Gen\n",
       "DateTime                          \n",
       "2018-12-01  4075.05341  5126.74053\n",
       "2018-11-01  3667.82540  4534.25915\n",
       "2018-10-01  3397.63940  4290.06948\n",
       "2018-09-01  3444.35417  4571.52680\n",
       "2018-08-01  4317.71877  5265.79230"
      ]
     },
     "execution_count": 138,
     "metadata": {},
     "output_type": "execute_result"
    }
   ],
   "source": [
    "while dummy == 0:\n",
    "    UTcolumns = ['DateTime','UT_Net_Gen']\n",
    "    COcolumns = ['DateTime','CO_Net_Gen']\n",
    "\n",
    "    dfUT.columns = UTcolumns\n",
    "    dfCO.columns = COcolumns\n",
    "\n",
    "    dfUT['DateTime'] = pd.to_datetime(dfUT['DateTime'],format='%Y%m', errors='ignore')\n",
    "    dfCO['DateTime'] = pd.to_datetime(dfCO['DateTime'],format='%Y%m', errors='ignore')\n",
    "    dfUT = dfUT.set_index(dfUT['DateTime'])\n",
    "    dfCO = dfCO.set_index(dfCO['DateTime'])\n",
    "\n",
    "    dfUT = dfUT['UT_Net_Gen']\n",
    "    dfCO = dfCO['CO_Net_Gen']\n",
    "    dummy += 1\n",
    "\n",
    "\n",
    "#print(dfUT)\n",
    "#print(dfCO)\n",
    "df = pd.concat([dfUT,dfCO],axis=1)\n",
    "df.head()"
   ]
  }
 ],
 "metadata": {
  "kernelspec": {
   "display_name": "Python 3",
   "language": "python",
   "name": "python3"
  },
  "language_info": {
   "codemirror_mode": {
    "name": "ipython",
    "version": 3
   },
   "file_extension": ".py",
   "mimetype": "text/x-python",
   "name": "python",
   "nbconvert_exporter": "python",
   "pygments_lexer": "ipython3",
   "version": "3.6.8"
  }
 },
 "nbformat": 4,
 "nbformat_minor": 2
}
