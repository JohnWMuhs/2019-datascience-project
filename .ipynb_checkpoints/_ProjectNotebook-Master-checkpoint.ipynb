{
 "cells": [
  {
   "cell_type": "markdown",
   "metadata": {},
   "source": [
    "# Enron 2.0: Predicting California's Energy Consumption\n",
    "\n",
    "## Team Members:\n",
    "\n",
    "**Names:** John W. Muhs, Corbett Carell\n",
    "<br>**Emails:** <u0761102,u0502104>@utah.edu</br>\n",
    "<br>**Github Repository:** [JohnWMuhs/2019-datascience-project](https://github.com/JohnWMuhs/2019-datascience-project \"2019 Data Science Project Github Repo\")</br>"
   ]
  },
  {
   "cell_type": "markdown",
   "metadata": {},
   "source": [
    "## Project Objectives\n",
    "\n",
    "In this project, we present a power consumption prediction method for the [California ISO](http://www.caiso.com/Pages/default.aspx) by utilizing hourly CAISO load data from the Energy Information Agency (EIA), weather data from the Darksky API, and potentially some other sources.\n",
    "\n",
    "<br>**Project Proposal (Submitted Mar. 1st):** The project was introduced via a project proposal available on Google Docs [here](https://docs.google.com/document/d/1i6FB5gmumkx5CnaKLHzKJk8nae0PirpgJDDWm3NkkZ4/edit?usp=sharing \"Project Proposal\").</br>\n",
    "\n",
    "## Data Sources\n",
    "<br>**Energy Data:** [U.S. Electric System Operating Data](https://www.eia.gov/opendata/qb.php?category=2123635 \"EIA API: Electric System Operating Data\")</br>\n",
    "<br>**Weather Data:** [Darksky API](https://darksky.net/dev \"Darksky API\")</br>\n",
    "\n",
    "## Project Timeline\n",
    "\n",
    "\\<img src=\"images/ProjectFlowChart_Proposal.png\">"
   ]
  },
  {
   "cell_type": "code",
   "execution_count": 1,
   "metadata": {},
   "outputs": [],
   "source": [
    "import pandas as pd\n",
    "import matplotlib as plt\n",
    "import json\n",
    "import requests "
   ]
  },
  {
   "cell_type": "code",
   "execution_count": 2,
   "metadata": {},
   "outputs": [],
   "source": [
    "EIA_api_key = '53e6a63887dc05efe150165fa890f8da'\n",
    "\n",
    "'''\n",
    "Hourly Electrici\n",
    "'''\n",
    "\n",
    "urls = {'CAISO_HourlyLoad':'http://api.eia.gov/series/?api_key='+EIA_api_key+'&series_id=EBA.CISO-ALL.D.H',\n",
    "        'California_HourlyLoad':'http://api.eia.gov/series/?api_key='+EIA_api_key+'&series_id=EBA.CAL-ALL.D.H'}\n",
    "\n",
    "newPull = 0"
   ]
  },
  {
   "cell_type": "code",
   "execution_count": 3,
   "metadata": {},
   "outputs": [],
   "source": [
    "df = pd.DataFrame()\n",
    "i = 0\n",
    "for key in urls:\n",
    "    if newPull == 0:\n",
    "        EIAData = requests.get(urls[key])\n",
    "        EIAData = EIAData.content.decode(\"utf-8\")\n",
    "        EIAdict = json.loads(EIAData)\n",
    "        \n",
    "    dfEIA = pd.DataFrame.from_dict(EIAdict['series'])\n",
    "    dfEIA = dfEIA['data'][0]\n",
    "        \n",
    "    dfEIA = pd.DataFrame(dfEIA)\n",
    "    #print(dfEIA[0])\n",
    "    \n",
    "    while i != 1:\n",
    "        df['DateTime'] = pd.to_datetime(dfEIA[0],format='%Y%m%dT%H', errors='ignore')\n",
    "        df['DateTime'] = df['DateTime'].dt.tz_convert('America/Los_Angeles')\n",
    "        i += 1\n",
    "        \n",
    "    df[str(key)] = dfEIA[1]"
   ]
  },
  {
   "cell_type": "code",
   "execution_count": 6,
   "metadata": {},
   "outputs": [],
   "source": [
    "df.index = df['DateTime']"
   ]
  },
  {
   "cell_type": "code",
   "execution_count": 9,
   "metadata": {},
   "outputs": [
    {
     "data": {
      "text/html": [
       "<div>\n",
       "<style scoped>\n",
       "    .dataframe tbody tr th:only-of-type {\n",
       "        vertical-align: middle;\n",
       "    }\n",
       "\n",
       "    .dataframe tbody tr th {\n",
       "        vertical-align: top;\n",
       "    }\n",
       "\n",
       "    .dataframe thead th {\n",
       "        text-align: right;\n",
       "    }\n",
       "</style>\n",
       "<table border=\"1\" class=\"dataframe\">\n",
       "  <thead>\n",
       "    <tr style=\"text-align: right;\">\n",
       "      <th></th>\n",
       "      <th>CAISO_HourlyLoad</th>\n",
       "      <th>California_HourlyLoad</th>\n",
       "    </tr>\n",
       "    <tr>\n",
       "      <th>DateTime</th>\n",
       "      <th></th>\n",
       "      <th></th>\n",
       "    </tr>\n",
       "  </thead>\n",
       "  <tbody>\n",
       "    <tr>\n",
       "      <th>2015-07-01 00:00:00-07:00</th>\n",
       "      <td>759794.0</td>\n",
       "      <td>940489</td>\n",
       "    </tr>\n",
       "    <tr>\n",
       "      <th>2015-07-02 00:00:00-07:00</th>\n",
       "      <td>780410.0</td>\n",
       "      <td>962751</td>\n",
       "    </tr>\n",
       "    <tr>\n",
       "      <th>2015-07-03 00:00:00-07:00</th>\n",
       "      <td>719208.0</td>\n",
       "      <td>887079</td>\n",
       "    </tr>\n",
       "    <tr>\n",
       "      <th>2015-07-04 00:00:00-07:00</th>\n",
       "      <td>678520.0</td>\n",
       "      <td>830874</td>\n",
       "    </tr>\n",
       "    <tr>\n",
       "      <th>2015-07-05 00:00:00-07:00</th>\n",
       "      <td>649346.0</td>\n",
       "      <td>791310</td>\n",
       "    </tr>\n",
       "  </tbody>\n",
       "</table>\n",
       "</div>"
      ],
      "text/plain": [
       "                           CAISO_HourlyLoad  California_HourlyLoad\n",
       "DateTime                                                          \n",
       "2015-07-01 00:00:00-07:00          759794.0                 940489\n",
       "2015-07-02 00:00:00-07:00          780410.0                 962751\n",
       "2015-07-03 00:00:00-07:00          719208.0                 887079\n",
       "2015-07-04 00:00:00-07:00          678520.0                 830874\n",
       "2015-07-05 00:00:00-07:00          649346.0                 791310"
      ]
     },
     "execution_count": 9,
     "metadata": {},
     "output_type": "execute_result"
    }
   ],
   "source": [
    "df = df.resample('D').sum()\n",
    "df.head()"
   ]
  },
  {
   "cell_type": "code",
   "execution_count": null,
   "metadata": {},
   "outputs": [],
   "source": []
  }
 ],
 "metadata": {
  "kernelspec": {
   "display_name": "Python 3",
   "language": "python",
   "name": "python3"
  },
  "language_info": {
   "codemirror_mode": {
    "name": "ipython",
    "version": 3
   },
   "file_extension": ".py",
   "mimetype": "text/x-python",
   "name": "python",
   "nbconvert_exporter": "python",
   "pygments_lexer": "ipython3",
   "version": "3.6.8"
  }
 },
 "nbformat": 4,
 "nbformat_minor": 2
}
