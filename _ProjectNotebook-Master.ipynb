{
 "cells": [
  {
   "cell_type": "markdown",
   "metadata": {},
   "source": [
    "# Enron 2.0: Predicting California's Energy Consumption\n",
    "\n",
    "## Team Members:\n",
    "\n",
    "**Names:** John W. Muhs, Corbett Carell\n",
    "<br>**Emails:** <u0761102,u0502104>@utah.edu</br>\n",
    "<br>**Github Repository:** [JohnWMuhs/2019-datascience-project](https://github.com/JohnWMuhs/2019-datascience-project \"2019 Data Science Project Github Repo\")</br>"
   ]
  },
  {
   "cell_type": "markdown",
   "metadata": {},
   "source": [
    "## Project Objectives\n",
    "\n",
    "In this project, we present a power consumption prediction method for the [California ISO](http://www.caiso.com/Pages/default.aspx) by utilizing hourly CAISO load data from the Energy Information Agency (EIA), weather data from the Darksky API, and potentially some other sources.\n",
    "\n",
    "<br>**Project Proposal (Submitted Mar. 1st):** The project was introduced via a project proposal available on Google Docs [here](https://docs.google.com/document/d/1i6FB5gmumkx5CnaKLHzKJk8nae0PirpgJDDWm3NkkZ4/edit?usp=sharing \"Project Proposal\").</br>\n",
    "\n",
    "## Data Sources\n",
    "<br>**Energy Data:** [U.S. Electric System Operating Data](https://www.eia.gov/opendata/qb.php?category=2123635 \"EIA API: Electric System Operating Data\")</br>\n",
    "<br>**Weather Data:** [Darksky API](https://darksky.net/dev \"Darksky API\")</br>\n",
    "\n",
    "## Project Timeline\n",
    "\n",
    "\\<img src=\"images/ProjectFlowChart_Proposal.png\">"
   ]
  },
  {
   "cell_type": "markdown",
   "metadata": {},
   "source": [
    "# Section 1: Data Import"
   ]
  },
  {
   "cell_type": "markdown",
   "metadata": {},
   "source": [
    "## Energy Data Import and Formatting\n",
    "\n",
    "This section includes the code required to import power consumption from the CAISO Balancing Authority (BA) and the entire California region. The California region contains a number of BAs (the largest of which by far is CAISO), however, we decided to import both BA and region data for comparison. "
   ]
  },
  {
   "cell_type": "code",
   "execution_count": 89,
   "metadata": {},
   "outputs": [],
   "source": [
    "import pandas as pd\n",
    "import matplotlib.pyplot as plt\n",
    "import json\n",
    "import requests "
   ]
  },
  {
   "cell_type": "markdown",
   "metadata": {},
   "source": [
    "The code below allows a user to quickly copy/paste a link from the EIA API website, and provide a title for it in the urls dictionary. The code takes that url and creates a unified dataframe. Therefore, it is incredibly easy to add additional EIA data in the future. "
   ]
  },
  {
   "cell_type": "code",
   "execution_count": 69,
   "metadata": {},
   "outputs": [],
   "source": [
    "# Import EIA API Key \n",
    "EIA_api_key = '53e6a63887dc05efe150165fa890f8da'\n",
    "\n",
    "# Create Dictionary of urls from which we want to pull the EIA API\n",
    "urls = {'CAISO_HourlyLoad':'http://api.eia.gov/series/?api_key='+EIA_api_key+'&series_id=EBA.CISO-ALL.D.H',\n",
    "        'California_HourlyLoad':'http://api.eia.gov/series/?api_key='+EIA_api_key+'&series_id=EBA.CAL-ALL.D.H'}\n"
   ]
  },
  {
   "cell_type": "code",
   "execution_count": 70,
   "metadata": {},
   "outputs": [],
   "source": [
    "# Initialize a dataframe\n",
    "df = pd.DataFrame()\n",
    "\n",
    "# Setup dummy variable to ensure that a datetime is only generated once\n",
    "i = 0\n",
    "\n",
    "for key in urls:\n",
    "    \n",
    "    # API pull\n",
    "    EIAData = requests.get(urls[key])\n",
    "    \n",
    "    # Decode from utf-8\n",
    "    EIAData = EIAData.content.decode(\"utf-8\")\n",
    "    \n",
    "    # Load API pull as a dict\n",
    "    EIAdict = json.loads(EIAData)\n",
    "    \n",
    "    # Access the data in EIAdict\n",
    "    dfEIA = pd.DataFrame.from_dict(EIAdict['series'])\n",
    "    dfEIA = dfEIA['data'][0]\n",
    "    \n",
    "    # Convert clean data to a dataframe\n",
    "    dfEIA = pd.DataFrame(dfEIA)\n",
    "    #print(dfEIA[0])\n",
    "    \n",
    "    # Find the datetime\n",
    "    while i != 1:\n",
    "        df['DateTime'] = pd.to_datetime(dfEIA[0],format='%Y%m%dT%H', errors='ignore')\n",
    "        df['DateTime'] = df['DateTime'].dt.tz_convert('US/Pacific')\n",
    "        i += 1\n",
    "    \n",
    "    # Create a new column for each type of data (url) pulled from API\n",
    "    df[str(key)] = dfEIA[1]\n",
    "    \n",
    "# Set DateTime as index of the dataframe (tz-aware)\n",
    "df.index = df['DateTime']"
   ]
  },
  {
   "cell_type": "markdown",
   "metadata": {},
   "source": [
    "We decided to complete the project in a daily time resolution. This was done mainly to reduce the dataset to a reasonable size. If we kept the dataset at an hourly time resolution, we would have over 32,000 data points! However converting the data down to a daily time resolution provided a very nicely-sized 1362 data points from which to analyze. "
   ]
  },
  {
   "cell_type": "code",
   "execution_count": 83,
   "metadata": {},
   "outputs": [],
   "source": [
    "# Resample hourly data to daily data (summed energy consumption which has units of MWh)\n",
    "df = df.resample('D').sum()"
   ]
  },
  {
   "cell_type": "markdown",
   "metadata": {},
   "source": [
    "The final dataframe looks like this:"
   ]
  },
  {
   "cell_type": "code",
   "execution_count": 84,
   "metadata": {},
   "outputs": [
    {
     "data": {
      "text/html": [
       "<div>\n",
       "<style scoped>\n",
       "    .dataframe tbody tr th:only-of-type {\n",
       "        vertical-align: middle;\n",
       "    }\n",
       "\n",
       "    .dataframe tbody tr th {\n",
       "        vertical-align: top;\n",
       "    }\n",
       "\n",
       "    .dataframe thead th {\n",
       "        text-align: right;\n",
       "    }\n",
       "</style>\n",
       "<table border=\"1\" class=\"dataframe\">\n",
       "  <thead>\n",
       "    <tr style=\"text-align: right;\">\n",
       "      <th></th>\n",
       "      <th>CAISO_HourlyLoad</th>\n",
       "      <th>California_HourlyLoad</th>\n",
       "    </tr>\n",
       "    <tr>\n",
       "      <th>DateTime</th>\n",
       "      <th></th>\n",
       "      <th></th>\n",
       "    </tr>\n",
       "  </thead>\n",
       "  <tbody>\n",
       "    <tr>\n",
       "      <th>2015-07-01 00:00:00-07:00</th>\n",
       "      <td>759794.0</td>\n",
       "      <td>940489</td>\n",
       "    </tr>\n",
       "    <tr>\n",
       "      <th>2015-07-02 00:00:00-07:00</th>\n",
       "      <td>780410.0</td>\n",
       "      <td>962751</td>\n",
       "    </tr>\n",
       "    <tr>\n",
       "      <th>2015-07-03 00:00:00-07:00</th>\n",
       "      <td>719208.0</td>\n",
       "      <td>887079</td>\n",
       "    </tr>\n",
       "    <tr>\n",
       "      <th>2015-07-04 00:00:00-07:00</th>\n",
       "      <td>678520.0</td>\n",
       "      <td>830874</td>\n",
       "    </tr>\n",
       "    <tr>\n",
       "      <th>2015-07-05 00:00:00-07:00</th>\n",
       "      <td>649346.0</td>\n",
       "      <td>791310</td>\n",
       "    </tr>\n",
       "  </tbody>\n",
       "</table>\n",
       "</div>"
      ],
      "text/plain": [
       "                           CAISO_HourlyLoad  California_HourlyLoad\n",
       "DateTime                                                          \n",
       "2015-07-01 00:00:00-07:00          759794.0                 940489\n",
       "2015-07-02 00:00:00-07:00          780410.0                 962751\n",
       "2015-07-03 00:00:00-07:00          719208.0                 887079\n",
       "2015-07-04 00:00:00-07:00          678520.0                 830874\n",
       "2015-07-05 00:00:00-07:00          649346.0                 791310"
      ]
     },
     "execution_count": 84,
     "metadata": {},
     "output_type": "execute_result"
    }
   ],
   "source": [
    "df.head()"
   ]
  },
  {
   "cell_type": "code",
   "execution_count": 128,
   "metadata": {},
   "outputs": [
    {
     "data": {
      "text/plain": [
       "Text(0,0.5,'Consumption (MWh)')"
      ]
     },
     "execution_count": 128,
     "metadata": {},
     "output_type": "execute_result"
    },
    {
     "data": {
      "image/png": "[encoded data removed]",
      "text/plain": [
       "<Figure size 576x432 with 3 Axes>"
      ]
     },
     "metadata": {
      "needs_background": "light"
     },
     "output_type": "display_data"
    }
   ],
   "source": [
    "fig, (ax0,ax1,ax2) = plt.subplots(nrows=3, figsize=(8, 6))\n",
    "start_date = [\"2016-01-01\",\"2017-01-01\",\"2018-01-01\"]\n",
    "end_date = [\"2016-12-31\",\"2017-12-31\",\"2018-12-31\"]\n",
    " \n",
    "ax0.set_title('CAISO Consumption 2016 - 2018')\n",
    "ax0.plot(df['CAISO_HourlyLoad'].loc[(df.index >= start_date[0]) & (df.index <= end_date[0])],label='yo')\n",
    "ax0.set_xlabel('Date')\n",
    "ax0.set_ylabel('Consumption (MWh)')\n",
    "ax1.plot(df['CAISO_HourlyLoad'].loc[(df.index >= start_date[1]) & (df.index <= end_date[1])],label='yo')\n",
    "ax1.set_xlabel('Date')\n",
    "ax1.set_ylabel('Consumption (MWh)')\n",
    "ax2.plot(df['CAISO_HourlyLoad'].loc[(df.index >= start_date[2]) & (df.index <= end_date[2])],label='yo')\n",
    "ax2.set_xlabel('Date')\n",
    "ax2.set_ylabel('Consumption (MWh)')\n",
    "\n",
    "\n",
    "#df2017.head()"
   ]
  },
  {
   "cell_type": "markdown",
   "metadata": {},
   "source": [
    "We used the following code to export this dataframe to a csv."
   ]
  },
  {
   "cell_type": "code",
   "execution_count": 6,
   "metadata": {},
   "outputs": [],
   "source": [
    "#df.to_csv('energydata.csv')"
   ]
  },
  {
   "cell_type": "markdown",
   "metadata": {},
   "source": [
    "## Weather Data (DarkSky API) Import and Format"
   ]
  },
  {
   "cell_type": "markdown",
   "metadata": {},
   "source": [
    "The weather data was pulled in using the DarkSky API. The Darksky API requires inputs of latitude, longitude, and datetime to pull corresponding weather data. Darksky API does not seem to allow pulls over a date range, so for this reason, the code to pull over the entire date range required over 6,000 pulls from the API. So as not to do this every time we run the code, a separate code has been developed and included in the repository that demonstrates how DarkSky data was accessed. The code to pull the weather data can be found in \"darksky-api.ipynb\"."
   ]
  },
  {
   "cell_type": "markdown",
   "metadata": {},
   "source": [
    "Weather data was pulled from July 1st, 2015 (constraint from EIA hourly data) to December 31st, 2018. All attributes from the DarkSky API pull have been included in the csv, so all filtering and processing will be included in this notebook. "
   ]
  },
  {
   "cell_type": "code",
   "execution_count": 85,
   "metadata": {},
   "outputs": [],
   "source": [
    "# Pull weather data from static csv\n",
    "dfWeather = pd.read_csv('darksky_data.csv')\n",
    "\n",
    "#Set dummy variable\n",
    "i=0"
   ]
  },
  {
   "cell_type": "code",
   "execution_count": 86,
   "metadata": {},
   "outputs": [],
   "source": [
    "# To avoid renaming multiple times and pulling an error (we could include a try except here.)\n",
    "while i != 1:\n",
    "    #Take the date time (originally included as a string), and format it into a pd datetime\n",
    "    dfWeather['DateTime'] = pd.to_datetime(dfWeather['time'],format='%m-%d-%Y', errors='ignore')\n",
    "    \n",
    "    # Set Datetime as index of the dataframe\n",
    "    dfWeather.index = dfWeather['DateTime']\n",
    "    \n",
    "    # Drop extraneous columns\n",
    "    dfWeather = dfWeather.drop(['time','DateTime'],axis=1)\n",
    "    \n",
    "    # Set TZ to US-Pacific (both dataframes are tz-aware)\n",
    "    dfWeather = dfWeather.tz_localize('US/Pacific', level=0)\n",
    "    i += 1\n"
   ]
  },
  {
   "cell_type": "markdown",
   "metadata": {},
   "source": [
    "# Section 2: Data Merge and Exploration"
   ]
  },
  {
   "cell_type": "code",
   "execution_count": 87,
   "metadata": {},
   "outputs": [
    {
     "data": {
      "text/html": [
       "<div>\n",
       "<style scoped>\n",
       "    .dataframe tbody tr th:only-of-type {\n",
       "        vertical-align: middle;\n",
       "    }\n",
       "\n",
       "    .dataframe tbody tr th {\n",
       "        vertical-align: top;\n",
       "    }\n",
       "\n",
       "    .dataframe thead th {\n",
       "        text-align: right;\n",
       "    }\n",
       "</style>\n",
       "<table border=\"1\" class=\"dataframe\">\n",
       "  <thead>\n",
       "    <tr style=\"text-align: right;\">\n",
       "      <th></th>\n",
       "      <th>CAISO_HourlyLoad</th>\n",
       "      <th>California_HourlyLoad</th>\n",
       "      <th>apparentTemperatureHigh</th>\n",
       "      <th>apparentTemperatureLow</th>\n",
       "      <th>apparentTemperatureMax</th>\n",
       "      <th>apparentTemperatureMin</th>\n",
       "      <th>cloudCover</th>\n",
       "      <th>dewPoint</th>\n",
       "      <th>humidity</th>\n",
       "      <th>moonPhase</th>\n",
       "      <th>...</th>\n",
       "      <th>sunsetTime</th>\n",
       "      <th>temperatureHigh</th>\n",
       "      <th>temperatureLow</th>\n",
       "      <th>temperatureMax</th>\n",
       "      <th>temperatureMin</th>\n",
       "      <th>uvIndex</th>\n",
       "      <th>visibility</th>\n",
       "      <th>windBearing</th>\n",
       "      <th>windGust</th>\n",
       "      <th>windSpeed</th>\n",
       "    </tr>\n",
       "    <tr>\n",
       "      <th>DateTime</th>\n",
       "      <th></th>\n",
       "      <th></th>\n",
       "      <th></th>\n",
       "      <th></th>\n",
       "      <th></th>\n",
       "      <th></th>\n",
       "      <th></th>\n",
       "      <th></th>\n",
       "      <th></th>\n",
       "      <th></th>\n",
       "      <th></th>\n",
       "      <th></th>\n",
       "      <th></th>\n",
       "      <th></th>\n",
       "      <th></th>\n",
       "      <th></th>\n",
       "      <th></th>\n",
       "      <th></th>\n",
       "      <th></th>\n",
       "      <th></th>\n",
       "      <th></th>\n",
       "    </tr>\n",
       "  </thead>\n",
       "  <tbody>\n",
       "    <tr>\n",
       "      <th>2015-07-01 00:00:00-07:00</th>\n",
       "      <td>759794.0</td>\n",
       "      <td>940489</td>\n",
       "      <td>99.140</td>\n",
       "      <td>76.572</td>\n",
       "      <td>99.140</td>\n",
       "      <td>76.392</td>\n",
       "      <td>0.238</td>\n",
       "      <td>56.696</td>\n",
       "      <td>0.410</td>\n",
       "      <td>0.48</td>\n",
       "      <td>...</td>\n",
       "      <td>1.435807e+09</td>\n",
       "      <td>98.330</td>\n",
       "      <td>76.348</td>\n",
       "      <td>98.330</td>\n",
       "      <td>76.208</td>\n",
       "      <td>9.2</td>\n",
       "      <td>8.448</td>\n",
       "      <td>191.6</td>\n",
       "      <td>13.926</td>\n",
       "      <td>1.194</td>\n",
       "    </tr>\n",
       "    <tr>\n",
       "      <th>2015-07-02 00:00:00-07:00</th>\n",
       "      <td>780410.0</td>\n",
       "      <td>962751</td>\n",
       "      <td>96.232</td>\n",
       "      <td>72.284</td>\n",
       "      <td>96.232</td>\n",
       "      <td>76.174</td>\n",
       "      <td>0.218</td>\n",
       "      <td>57.536</td>\n",
       "      <td>0.436</td>\n",
       "      <td>0.53</td>\n",
       "      <td>...</td>\n",
       "      <td>1.435894e+09</td>\n",
       "      <td>95.878</td>\n",
       "      <td>72.218</td>\n",
       "      <td>95.878</td>\n",
       "      <td>76.042</td>\n",
       "      <td>9.8</td>\n",
       "      <td>8.400</td>\n",
       "      <td>247.4</td>\n",
       "      <td>11.836</td>\n",
       "      <td>1.942</td>\n",
       "    </tr>\n",
       "    <tr>\n",
       "      <th>2015-07-03 00:00:00-07:00</th>\n",
       "      <td>719208.0</td>\n",
       "      <td>887079</td>\n",
       "      <td>96.158</td>\n",
       "      <td>71.094</td>\n",
       "      <td>96.158</td>\n",
       "      <td>72.284</td>\n",
       "      <td>0.164</td>\n",
       "      <td>56.390</td>\n",
       "      <td>0.440</td>\n",
       "      <td>0.56</td>\n",
       "      <td>...</td>\n",
       "      <td>1.435980e+09</td>\n",
       "      <td>96.008</td>\n",
       "      <td>71.048</td>\n",
       "      <td>96.008</td>\n",
       "      <td>72.218</td>\n",
       "      <td>10.4</td>\n",
       "      <td>8.950</td>\n",
       "      <td>254.4</td>\n",
       "      <td>11.072</td>\n",
       "      <td>2.232</td>\n",
       "    </tr>\n",
       "    <tr>\n",
       "      <th>2015-07-04 00:00:00-07:00</th>\n",
       "      <td>678520.0</td>\n",
       "      <td>830874</td>\n",
       "      <td>97.320</td>\n",
       "      <td>70.610</td>\n",
       "      <td>97.320</td>\n",
       "      <td>70.966</td>\n",
       "      <td>0.164</td>\n",
       "      <td>57.920</td>\n",
       "      <td>0.462</td>\n",
       "      <td>0.60</td>\n",
       "      <td>...</td>\n",
       "      <td>1.436067e+09</td>\n",
       "      <td>96.990</td>\n",
       "      <td>70.604</td>\n",
       "      <td>96.990</td>\n",
       "      <td>70.954</td>\n",
       "      <td>10.2</td>\n",
       "      <td>9.020</td>\n",
       "      <td>249.2</td>\n",
       "      <td>12.004</td>\n",
       "      <td>2.380</td>\n",
       "    </tr>\n",
       "    <tr>\n",
       "      <th>2015-07-05 00:00:00-07:00</th>\n",
       "      <td>649346.0</td>\n",
       "      <td>791310</td>\n",
       "      <td>92.228</td>\n",
       "      <td>67.738</td>\n",
       "      <td>92.228</td>\n",
       "      <td>70.610</td>\n",
       "      <td>0.206</td>\n",
       "      <td>57.404</td>\n",
       "      <td>0.488</td>\n",
       "      <td>0.63</td>\n",
       "      <td>...</td>\n",
       "      <td>1.436153e+09</td>\n",
       "      <td>92.198</td>\n",
       "      <td>67.726</td>\n",
       "      <td>92.198</td>\n",
       "      <td>70.604</td>\n",
       "      <td>9.8</td>\n",
       "      <td>9.014</td>\n",
       "      <td>247.4</td>\n",
       "      <td>12.474</td>\n",
       "      <td>3.148</td>\n",
       "    </tr>\n",
       "  </tbody>\n",
       "</table>\n",
       "<p>5 rows × 25 columns</p>\n",
       "</div>"
      ],
      "text/plain": [
       "                           CAISO_HourlyLoad  California_HourlyLoad  \\\n",
       "DateTime                                                             \n",
       "2015-07-01 00:00:00-07:00          759794.0                 940489   \n",
       "2015-07-02 00:00:00-07:00          780410.0                 962751   \n",
       "2015-07-03 00:00:00-07:00          719208.0                 887079   \n",
       "2015-07-04 00:00:00-07:00          678520.0                 830874   \n",
       "2015-07-05 00:00:00-07:00          649346.0                 791310   \n",
       "\n",
       "                           apparentTemperatureHigh  apparentTemperatureLow  \\\n",
       "DateTime                                                                     \n",
       "2015-07-01 00:00:00-07:00                   99.140                  76.572   \n",
       "2015-07-02 00:00:00-07:00                   96.232                  72.284   \n",
       "2015-07-03 00:00:00-07:00                   96.158                  71.094   \n",
       "2015-07-04 00:00:00-07:00                   97.320                  70.610   \n",
       "2015-07-05 00:00:00-07:00                   92.228                  67.738   \n",
       "\n",
       "                           apparentTemperatureMax  apparentTemperatureMin  \\\n",
       "DateTime                                                                    \n",
       "2015-07-01 00:00:00-07:00                  99.140                  76.392   \n",
       "2015-07-02 00:00:00-07:00                  96.232                  76.174   \n",
       "2015-07-03 00:00:00-07:00                  96.158                  72.284   \n",
       "2015-07-04 00:00:00-07:00                  97.320                  70.966   \n",
       "2015-07-05 00:00:00-07:00                  92.228                  70.610   \n",
       "\n",
       "                           cloudCover  dewPoint  humidity  moonPhase  ...  \\\n",
       "DateTime                                                              ...   \n",
       "2015-07-01 00:00:00-07:00       0.238    56.696     0.410       0.48  ...   \n",
       "2015-07-02 00:00:00-07:00       0.218    57.536     0.436       0.53  ...   \n",
       "2015-07-03 00:00:00-07:00       0.164    56.390     0.440       0.56  ...   \n",
       "2015-07-04 00:00:00-07:00       0.164    57.920     0.462       0.60  ...   \n",
       "2015-07-05 00:00:00-07:00       0.206    57.404     0.488       0.63  ...   \n",
       "\n",
       "                             sunsetTime  temperatureHigh  temperatureLow  \\\n",
       "DateTime                                                                   \n",
       "2015-07-01 00:00:00-07:00  1.435807e+09           98.330          76.348   \n",
       "2015-07-02 00:00:00-07:00  1.435894e+09           95.878          72.218   \n",
       "2015-07-03 00:00:00-07:00  1.435980e+09           96.008          71.048   \n",
       "2015-07-04 00:00:00-07:00  1.436067e+09           96.990          70.604   \n",
       "2015-07-05 00:00:00-07:00  1.436153e+09           92.198          67.726   \n",
       "\n",
       "                           temperatureMax  temperatureMin  uvIndex  \\\n",
       "DateTime                                                             \n",
       "2015-07-01 00:00:00-07:00          98.330          76.208      9.2   \n",
       "2015-07-02 00:00:00-07:00          95.878          76.042      9.8   \n",
       "2015-07-03 00:00:00-07:00          96.008          72.218     10.4   \n",
       "2015-07-04 00:00:00-07:00          96.990          70.954     10.2   \n",
       "2015-07-05 00:00:00-07:00          92.198          70.604      9.8   \n",
       "\n",
       "                           visibility  windBearing  windGust  windSpeed  \n",
       "DateTime                                                                 \n",
       "2015-07-01 00:00:00-07:00       8.448        191.6    13.926      1.194  \n",
       "2015-07-02 00:00:00-07:00       8.400        247.4    11.836      1.942  \n",
       "2015-07-03 00:00:00-07:00       8.950        254.4    11.072      2.232  \n",
       "2015-07-04 00:00:00-07:00       9.020        249.2    12.004      2.380  \n",
       "2015-07-05 00:00:00-07:00       9.014        247.4    12.474      3.148  \n",
       "\n",
       "[5 rows x 25 columns]"
      ]
     },
     "execution_count": 87,
     "metadata": {},
     "output_type": "execute_result"
    }
   ],
   "source": [
    "# Merge EIA and Weather dataframes. Inner only keeps the dates from the dfWeather dataframe. \n",
    "dfX = pd.merge(df,dfWeather, how='inner', left_index=True, right_index=True)\n",
    "\n",
    "# Display head of merged dataframe\n",
    "dfX.head()"
   ]
  },
  {
   "cell_type": "code",
   "execution_count": null,
   "metadata": {},
   "outputs": [],
   "source": []
  }
 ],
 "metadata": {
  "kernelspec": {
   "display_name": "Python 3",
   "language": "python",
   "name": "python3"
  },
  "language_info": {
   "codemirror_mode": {
    "name": "ipython",
    "version": 3
   },
   "file_extension": ".py",
   "mimetype": "text/x-python",
   "name": "python",
   "nbconvert_exporter": "python",
   "pygments_lexer": "ipython3",
   "version": "3.6.8"
  }
 },
 "nbformat": 4,
 "nbformat_minor": 2
}
